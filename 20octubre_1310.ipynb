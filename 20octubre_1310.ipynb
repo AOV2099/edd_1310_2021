{
  "nbformat": 4,
  "nbformat_minor": 0,
  "metadata": {
    "colab": {
      "name": "20octubre_1310.ipynb",
      "provenance": [],
      "collapsed_sections": [],
      "toc_visible": true,
      "authorship_tag": "ABX9TyNraqDMegquzarYTWHVeWiQ",
      "include_colab_link": true
    },
    "kernelspec": {
      "name": "python3",
      "display_name": "Python 3"
    }
  },
  "cells": [
    {
      "cell_type": "markdown",
      "metadata": {
        "id": "view-in-github",
        "colab_type": "text"
      },
      "source": [
        "<a href=\"https://colab.research.google.com/github/AOV2099/edd_1310_2021/blob/master/20octubre_1310.ipynb\" target=\"_parent\"><img src=\"https://colab.research.google.com/assets/colab-badge.svg\" alt=\"Open In Colab\"/></a>"
      ]
    },
    {
      "cell_type": "code",
      "metadata": {
        "id": "gpiuz6oyxU4a",
        "outputId": "36eb3f5f-ebc9-4181-981a-82bcd5e86160",
        "colab": {
          "base_uri": "https://localhost:8080/",
          "height": 85
        }
      },
      "source": [
        "with open ('numeros.txt') as nums:\n",
        "  sumaTot = 0\n",
        "  for linea in nums.readlines():\n",
        "    sumaLine = 0\n",
        "    for trunc in linea.split(','):\n",
        "      sumaLine += ( int( trunc.strip()) )\n",
        "      sumaTot += ( int( trunc.strip()) )\n",
        "    print( f\"suma linea = {int( sumaLine)}\" )\n",
        "  print( f\"suma total = {int( sumaTot)}\" )"
      ],
      "execution_count": 15,
      "outputs": [
        {
          "output_type": "stream",
          "text": [
            "suma linea = 150\n",
            "suma linea = 67\n",
            "suma linea = 18\n",
            "suma total = 235\n"
          ],
          "name": "stdout"
        }
      ]
    },
    {
      "cell_type": "markdown",
      "metadata": {
        "id": "PSE06Sru2wjs"
      },
      "source": [
        "# Sintaxis del for en python\n",
        "dos versiones de for\n",
        "\n",
        "  1.- Range\n",
        "\n",
        "  2.- in iterator\n"
      ]
    },
    {
      "cell_type": "code",
      "metadata": {
        "id": "Ekbr6oDk3IN8",
        "outputId": "00504354-8263-482a-96a7-724d25a411bc",
        "colab": {
          "base_uri": "https://localhost:8080/",
          "height": 170
        }
      },
      "source": [
        "r = range(0,10,2)\n",
        "\n",
        "for x in r:\n",
        "  print(x)\n",
        "\n",
        "colores =['rojo', 'rosa', 'azul', 'fucsia']\n",
        "\n",
        "for color in range(0,4,1):\n",
        "  colores[color] = colores[color].upper()\n",
        "  print(colores[color] + str(color))\n",
        "\n",
        "#for sobre un iterador\n",
        "#for color in colores:\n",
        "  #print(color)"
      ],
      "execution_count": 27,
      "outputs": [
        {
          "output_type": "stream",
          "text": [
            "0\n",
            "2\n",
            "4\n",
            "6\n",
            "8\n",
            "ROJO0\n",
            "ROSA1\n",
            "AZUL2\n",
            "FUCSIA3\n"
          ],
          "name": "stdout"
        }
      ]
    },
    {
      "cell_type": "markdown",
      "metadata": {
        "id": "Un1bCTdo7-wA"
      },
      "source": [
        "# Gerenardores\n",
        "\n",
        "[valor for x in range()]\n",
        "\n",
        "[[0,0,0,],\n",
        " [0,0,0],\n",
        " [0,0,0]]\n",
        " \n",
        " 3x3"
      ]
    },
    {
      "cell_type": "code",
      "metadata": {
        "id": "LxhsIvpI8XKD",
        "outputId": "813e7d91-df20-49fc-d17e-81fa829d7b46",
        "colab": {
          "base_uri": "https://localhost:8080/",
          "height": 51
        }
      },
      "source": [
        "lista = [ x for x in range(10) ]\n",
        "print(lista)\n",
        "\n",
        "ren, col = 3, 3\n",
        "matrix =[ [0 for x in range(col)] for x in range(ren) ]\n",
        "\n",
        "print(matrix)"
      ],
      "execution_count": 37,
      "outputs": [
        {
          "output_type": "stream",
          "text": [
            "[0, 1, 2, 3, 4, 5, 6, 7, 8, 9]\n",
            "[[0, 0, 0], [0, 0, 0], [0, 0, 0]]\n"
          ],
          "name": "stdout"
        }
      ]
    },
    {
      "cell_type": "markdown",
      "metadata": {
        "id": "Usk9oX-U_FS2"
      },
      "source": [
        "#POO EN PYTHON\n",
        "- Clase\n",
        "- Creacion de objetos \n",
        "- Constructor \n",
        "- Encapsulamineto\n",
        "- Métodos\n",
        "- Atributos\n",
        "- Herencia \n"
      ]
    },
    {
      "cell_type": "code",
      "metadata": {
        "id": "m7IKl9pD_Yl9",
        "outputId": "fbe6cbdb-5a0a-4651-d4be-00ae0936b325",
        "colab": {
          "base_uri": "https://localhost:8080/",
          "height": 51
        }
      },
      "source": [
        "class Computadora():\n",
        "  def __init__( self, m, p ):\n",
        "    print(\"Creando el objeto\")\n",
        "    self.__marca = m\n",
        "    self.__procesador = p\n",
        "\n",
        "  def to_string( self ):\n",
        "    return \"Marca: \" + self.__marca + \", Procesador: \" + self.__procesador\n",
        "\n",
        "mi_pc = Computadora(\"Asus\", \"Rizen 7\")\n",
        "mi_pc.marca = \"HP\"\n",
        "\n",
        "print(mi_pc.to_string())\n"
      ],
      "execution_count": 46,
      "outputs": [
        {
          "output_type": "stream",
          "text": [
            "Creando el objeto\n",
            "Marca: Asus, Procesador: Rizen 7\n"
          ],
          "name": "stdout"
        }
      ]
    }
  ]
}