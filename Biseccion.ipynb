{
  "nbformat": 4,
  "nbformat_minor": 0,
  "metadata": {
    "colab": {
      "name": "Biseccion.ipynb",
      "provenance": [],
      "collapsed_sections": [],
      "authorship_tag": "ABX9TyMjUFWIRAd9A3fWbzvMbwZy",
      "include_colab_link": true
    },
    "kernelspec": {
      "name": "python3",
      "display_name": "Python 3"
    }
  },
  "cells": [
    {
      "cell_type": "markdown",
      "metadata": {
        "id": "view-in-github",
        "colab_type": "text"
      },
      "source": [
        "<a href=\"https://colab.research.google.com/github/AOV2099/edd_1310_2021/blob/master/Biseccion.ipynb\" target=\"_parent\"><img src=\"https://colab.research.google.com/assets/colab-badge.svg\" alt=\"Open In Colab\"/></a>"
      ]
    },
    {
      "cell_type": "code",
      "metadata": {
        "id": "LI9VnTs9zkH9",
        "outputId": "9f9502b7-17b9-457e-dc44-c627dbbef907",
        "colab": {
          "base_uri": "https://localhost:8080/",
          "height": 805
        }
      },
      "source": [
        "#importamos \n",
        "import math     \n",
        "import numpy as np\n",
        "from matplotlib import pyplot as plt\n",
        "\n",
        "ecu = input(\"\"\"\n",
        "ejemplo -> (x)^4 + (3)*(x)^3 -2\n",
        "Dame tu función --> \"\"\")\n",
        "#ecu = \"x^3 + x - 1 \"\n",
        "#ecu = \"(x)**4 + (3)*(x)**3 -2\"\n",
        "\n",
        "ecu = ecu.replace('^', \"**\")\n",
        "print ( ecu )\n",
        "\n",
        "def biseccion(evalFun,a,b):\n",
        "\n",
        "    floa = evalFun(a) # evalua en la Función\n",
        "    flob = evalFun(b) # evalua en la Función\n",
        "    lastc = 0\n",
        "    \n",
        "    if floa*flob > 0 :\n",
        "        print(\"No hay raices para esta evalFunnsión. a y b tienen que tener signos diferentes y su suma no debe se ser = 0\")\n",
        "        return None\n",
        "\n",
        "    for i in range(25):\n",
        "\n",
        "        c = (a + b) / 2 #aproximación \n",
        "        floc = evalFun(c) \n",
        "        error = abs((c-lastc)/c)*100\n",
        "\n",
        "        if i == 0:\n",
        "            print(\"iteración {}: {:.5f} , {:.5f} \".format((i + 1), c, floc))\n",
        "\n",
        "        if i > 0:\n",
        "            print(\"iteración {}: {:.5f} , {:.5f} , '%'error: {:.4f}%, error: {:.4f}  \".format((i + 1), c, floc, error, (error/100) ) )\n",
        "        \n",
        "\n",
        "        if floc == 0:\n",
        "            break\n",
        "\n",
        "        if floa*floc > 0: # revisa si tienen el mismo signo y por lo tanto hace el cambio\n",
        "            a = c\n",
        "            floa = floc   \n",
        "            lastc = c\n",
        "\n",
        "        if flob*floc > 0: # revisa si tienen el mismo signo y por lo tanto hace el cambio\n",
        "            b = c\n",
        "            flob = floc  \n",
        "            lastc = c\n",
        "\n",
        "    return c \n",
        "\n",
        "#fun = lambda x: x**3 + x - 1 #expresión\n",
        "sToCode = \"\"\"\n",
        "fun = lambda x: myExp #expresión\n",
        "\"\"\"\n",
        "sToCode = sToCode.replace(\"myExp\", ecu)\n",
        "\n",
        "exec(sToCode)\n",
        "\n",
        "a = 0 #x inferior\n",
        "b = 5 #x superior\n",
        "\n",
        "x = biseccion(fun, a, b )\n",
        "print (\"Raiz -> {:.4f}\". format(x))\n",
        "raiz = x\n",
        "\n",
        "\n",
        "###PARA GRÁFICA\n",
        "x = np.linspace(-10,10,200)\n",
        "sToCodeY = \"\"\"\n",
        "y =  myExp \n",
        "\"\"\"\n",
        "sToCodeY = sToCodeY.replace(\"myExp\", ecu)\n",
        "exec(sToCodeY)\n",
        "\n",
        "winTitle = plt.gcf()\n",
        "winTitle.canvas.set_window_title(ecu)\n",
        "plt.plot(x, y)\n",
        "plt.grid()\n",
        "plt.xlabel(\"X\")\n",
        "plt.ylabel(\"Y\")\n",
        "#plt.title(\"Funcion: {}, Raíz: {:.5f}\". format(ecu, raiz))\n",
        "plt.title(\"Raíz: {:.5f}\". format(raiz))\n",
        "#gridSize = [-(raiz + 1), (raiz + 1), -(raiz + 1), (raiz + 1)] #Limite de ejes\n",
        "gridSize = [-(10), (10), -(10), (10)] #Limite de ejes\n",
        "plt.axis(gridSize)\n",
        "plt.show()\n",
        "\n"
      ],
      "execution_count": 1,
      "outputs": [
        {
          "output_type": "stream",
          "text": [
            "\n",
            "ejemplo -> (x)^4 + (3)*(x)^3 -2\n",
            "Dame tu función --> (x)^4 + (3)*(x)^3 -2\n",
            "(x)**4 + (3)*(x)**3 -2\n",
            "iteración 1: 2.50000 , 83.93750 \n",
            "iteración 2: 1.25000 , 6.30078 , '%'error: 100.0000%, error: 1.0000  \n",
            "iteración 3: 0.62500 , -1.11499 , '%'error: 100.0000%, error: 1.0000  \n",
            "iteración 4: 0.93750 , 1.24440 , '%'error: 33.3333%, error: 0.3333  \n",
            "iteración 5: 0.78125 , -0.19696 , '%'error: 20.0000%, error: 0.2000  \n",
            "iteración 6: 0.85938 , 0.44943 , '%'error: 9.0909%, error: 0.0909  \n",
            "iteración 7: 0.82031 , 0.10881 , '%'error: 4.7619%, error: 0.0476  \n",
            "iteración 8: 0.80078 , -0.04829 , '%'error: 2.4390%, error: 0.0244  \n",
            "iteración 9: 0.81055 , 0.02919 , '%'error: 1.2048%, error: 0.0120  \n",
            "iteración 10: 0.80566 , -0.00982 , '%'error: 0.6061%, error: 0.0061  \n",
            "iteración 11: 0.80811 , 0.00962 , '%'error: 0.3021%, error: 0.0030  \n",
            "iteración 12: 0.80688 , -0.00012 , '%'error: 0.1513%, error: 0.0015  \n",
            "iteración 13: 0.80750 , 0.00474 , '%'error: 0.0756%, error: 0.0008  \n",
            "iteración 14: 0.80719 , 0.00231 , '%'error: 0.0378%, error: 0.0004  \n",
            "iteración 15: 0.80704 , 0.00110 , '%'error: 0.0189%, error: 0.0002  \n",
            "iteración 16: 0.80696 , 0.00049 , '%'error: 0.0095%, error: 0.0001  \n",
            "iteración 17: 0.80692 , 0.00019 , '%'error: 0.0047%, error: 0.0000  \n",
            "iteración 18: 0.80690 , 0.00003 , '%'error: 0.0024%, error: 0.0000  \n",
            "iteración 19: 0.80689 , -0.00004 , '%'error: 0.0012%, error: 0.0000  \n",
            "iteración 20: 0.80690 , -0.00000 , '%'error: 0.0006%, error: 0.0000  \n",
            "iteración 21: 0.80690 , 0.00001 , '%'error: 0.0003%, error: 0.0000  \n",
            "iteración 22: 0.80690 , 0.00000 , '%'error: 0.0001%, error: 0.0000  \n",
            "iteración 23: 0.80690 , 0.00000 , '%'error: 0.0001%, error: 0.0000  \n",
            "iteración 24: 0.80690 , -0.00000 , '%'error: 0.0000%, error: 0.0000  \n",
            "iteración 25: 0.80690 , -0.00000 , '%'error: 0.0000%, error: 0.0000  \n",
            "Raiz -> 0.8069\n"
          ],
          "name": "stdout"
        },
        {
          "output_type": "display_data",
          "data": {
            "image/png": "[encoded data removed]",
            "text/plain": [
              "<Figure size 432x288 with 1 Axes>"
            ]
          },
          "metadata": {
            "tags": [],
            "needs_background": "light"
          }
        }
      ]
    }
  ]
}