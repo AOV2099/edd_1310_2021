{
  "nbformat": 4,
  "nbformat_minor": 0,
  "metadata": {
    "colab": {
      "name": "8octube_1310.ipynb",
      "provenance": [],
      "collapsed_sections": [],
      "authorship_tag": "ABX9TyMxBUqeQa9qncM8BWFt0G/E",
      "include_colab_link": true
    },
    "kernelspec": {
      "name": "python3",
      "display_name": "Python 3"
    }
  },
  "cells": [
    {
      "cell_type": "markdown",
      "metadata": {
        "id": "view-in-github",
        "colab_type": "text"
      },
      "source": [
        "<a href=\"https://colab.research.google.com/github/AOV2099/edd_1310_2021/blob/master/8octube_1310.ipynb\" target=\"_parent\"><img src=\"https://colab.research.google.com/assets/colab-badge.svg\" alt=\"Open In Colab\"/></a>"
      ]
    },
    {
      "cell_type": "code",
      "metadata": {
        "id": "DJxuPiU4_SG_",
        "outputId": "4ae894ac-286e-47fb-b17f-76f994c7acf5",
        "colab": {
          "base_uri": "https://localhost:8080/",
          "height": 136
        }
      },
      "source": [
        "monitores =[[\"Samsung\",\"17.3 \\\"\",1024],[\"BenQ\",\"40\\\"\",2048]]\n",
        "procesadores = [[\"Intel\",\"i7\",3.4],[\"AMD\",\"razzer\",3.3],[\"Intel\",\"i3\",3.1]]\n",
        "memorias = [[\"Kingston\", \"8GB\",\"DDR4\"],[\"Kingston\", \"16GB\",\"DDR3\"],[\"ADATA\", \"32GB\",\"DDR4\"]]\n",
        "\n",
        "componentes = [monitores,procesadores,memorias]\n",
        "\n",
        "print(componentes[1])\n",
        "\n",
        "print(componentes[2][1][1])\n",
        "\n",
        "print(int(componentes[0][1][2])*2)\n",
        "\n",
        "razzer = componentes[1][1][1]\n",
        "print(razzer[1:4:1])\n",
        "\n",
        "print(componentes[2][2][0].lower())\n",
        "\n",
        "componentes[2].append(['Corsair', '32gb', 'ddr4'])\n",
        "print(memorias)\n",
        "\n"
      ],
      "execution_count": 29,
      "outputs": [
        {
          "output_type": "stream",
          "text": [
            "[['Intel', 'i7', 3.4], ['AMD', 'razzer', 3.3], ['Intel', 'i3', 3.1]]\n",
            "16GB\n",
            "4096\n",
            "azz\n",
            "adata\n",
            "[['Kingston', '8GB', 'DDR4'], ['Kingston', '16GB', 'DDR3'], ['ADATA', '32GB', 'DDR4'], ['Corsair', '32gb', 'ddr4']]\n",
            "['manzana', 'pera', ['aguacate', 'sandia']]\n"
          ],
          "name": "stdout"
        }
      ]
    },
    {
      "cell_type": "code",
      "metadata": {
        "id": "IGuPox2mJG5k",
        "outputId": "bea2d956-3016-469f-8ea3-8b481ebb955f",
        "colab": {
          "base_uri": "https://localhost:8080/",
          "height": 136
        }
      },
      "source": [
        "#copiar y extender listas\n",
        "\n",
        "frutas =[\"manzana\",\"pera\"]\n",
        "otras_frutas = [\"aguacate\",\"sandia\"]\n",
        "\n",
        "# + sobre frutas \n",
        "#frutas += otras_frutas\n",
        "#print(frutas)\n",
        "\n",
        "#extend()\n",
        "#frutas.extend(otras_frutas)\n",
        "#print(frutas)\n",
        "\n",
        "#frutas.append(otras_frutas)\n",
        "#print(frutas)\n",
        "\n",
        "# copiar listas\n",
        "colores = ['azul','rojo','verde','violeta']\n",
        "otros_colores = colores\n",
        "print(colores)\n",
        "print(otros_colores)\n",
        "otros_colores.append('rosa')\n",
        "print(colores)\n",
        "print(otros_colores)\n",
        "\n",
        "otros_colores = colores.copy()\n",
        "otros_colores.append('Amarillo patito')\n",
        "print(colores)\n",
        "print(otros_colores)\n",
        "\n",
        "# unpacking de listas\n",
        "\n",
        "alumno = ['Moisés', 'Oseguera', 'Valencia', 20, 'ICO', 9.00]\n",
        "#nombre = alumno[0]\n",
        "#a_paterno = alumno[1]\n",
        "\n",
        "nombre, paterno, materno, edad, carrera, promedio = alumno\n",
        "\n",
        "print(f\"Alumno: {nombre} carrera: {carrera} promedio:{promedio} \")\n"
      ],
      "execution_count": 40,
      "outputs": [
        {
          "output_type": "stream",
          "text": [
            "['azul', 'rojo', 'verde', 'violeta']\n",
            "['azul', 'rojo', 'verde', 'violeta']\n",
            "['azul', 'rojo', 'verde', 'violeta', 'rosa']\n",
            "['azul', 'rojo', 'verde', 'violeta', 'rosa']\n",
            "['azul', 'rojo', 'verde', 'violeta', 'rosa']\n",
            "['azul', 'rojo', 'verde', 'violeta', 'rosa', 'Amarillo patito']\n",
            "Alumno: Moisés carrera: ICO promedio:9.0 \n"
          ],
          "name": "stdout"
        }
      ]
    },
    {
      "cell_type": "markdown",
      "metadata": {
        "id": "JiAlOK9jR4LW"
      },
      "source": [
        "#Tuplas\n",
        "- Se declaran con ()\n",
        "- Selector con [ ]\n",
        "- No son mutables\n",
        "\n"
      ]
    },
    {
      "cell_type": "code",
      "metadata": {
        "id": "G8MkjhTTSNey",
        "outputId": "93961fb9-7f1f-45e0-9af0-ccec458388fc",
        "colab": {
          "base_uri": "https://localhost:8080/",
          "height": 68
        }
      },
      "source": [
        "precios = (99.9 , 49.90, 12.45, 23.3, 33.44, 55.66)\n",
        "print(precios[1])\n",
        "print(precios)\n",
        "print(precios[2:4])"
      ],
      "execution_count": 42,
      "outputs": [
        {
          "output_type": "stream",
          "text": [
            "49.9\n",
            "(99.9, 49.9, 12.45, 23.3, 33.44, 55.66)\n",
            "(12.45, 23.3)\n"
          ],
          "name": "stdout"
        }
      ]
    },
    {
      "cell_type": "markdown",
      "metadata": {
        "id": "OIeA7UeBTkid"
      },
      "source": [
        "#Diccionarios\n",
        "- Mutables\n",
        "- Se declaran con {}\n",
        "- Conjuntos de pares llave/valor\n",
        "- Equivalentes a los objetos JSON de JavaScript\n",
        "- Selector con ['llave']"
      ]
    },
    {
      "cell_type": "code",
      "metadata": {
        "id": "xk3kzs5xT-YZ",
        "outputId": "d5b7535d-3594-41cc-c7d8-982a9c57beea",
        "colab": {
          "base_uri": "https://localhost:8080/",
          "height": 139
        }
      },
      "source": [
        "cliente = {}\n",
        "print(cliente)\n",
        "alumno = { \n",
        "          \"num_cta\" : 303030303 ,\n",
        "          \"carrera\" : \"ICO\",\n",
        "          \"promedio\" : 9.8,\n",
        "          \"materias\" :[\"EDD\",\"CyP\",\"Calidad\",\"Emprendimiento\"],\n",
        "          \"direccion\" : { \n",
        "                            \"calle\":\"rancho seco\",\n",
        "                            \"numero\" : 23 ,\n",
        "                            \"delegacion\" : \"Neza\",\n",
        "                            \"estado\" : {\n",
        "                                        \"id\" : 15 ,\n",
        "                                        \"nombre\" : \"Estado de Máxico\" ,\n",
        "                                        \"nombre_corto\" : \"EdoMex\"\n",
        "                                        } ,\n",
        "                            \"CP\":57170\n",
        "\n",
        "                        } \n",
        "          }\n",
        "\n",
        "print(alumno)\n",
        "\n",
        "print(alumno['carrera'])\n",
        "print(alumno['materias'])\n",
        "print(alumno['promedio'])\n",
        "print(alumno['direccion']['estado']['nombre_corto'])"
      ],
      "execution_count": 50,
      "outputs": [
        {
          "output_type": "stream",
          "text": [
            "{}\n",
            "{'num_cta': 303030303, 'carrera': 'ICO', 'promedio': 9.8, 'materias': ['EDD', 'CyP', 'Calidad', 'Emprendimiento'], 'direccion': {'calle': 'rancho seco', 'numero': 23, 'delegacion': 'Neza', 'estado': {'id': 15, 'nombre': 'Estado de Máxico', 'nombre_corto': 'EdoMex'}, 'CP': 57170}}\n",
            "ICO\n",
            "['EDD', 'CyP', 'Calidad', 'Emprendimiento']\n",
            "9.8\n",
            "EdoMex\n"
          ],
          "name": "stdout"
        }
      ]
    }
  ]
}