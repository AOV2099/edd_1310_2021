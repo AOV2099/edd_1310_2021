{
  "nbformat": 4,
  "nbformat_minor": 0,
  "metadata": {
    "colab": {
      "name": "1octubre_1310.ipynb",
      "provenance": [],
      "authorship_tag": "ABX9TyNz70K5pQi3tSuUTdYtlXYg",
      "include_colab_link": true
    },
    "kernelspec": {
      "name": "python3",
      "display_name": "Python 3"
    }
  },
  "cells": [
    {
      "cell_type": "markdown",
      "metadata": {
        "id": "view-in-github",
        "colab_type": "text"
      },
      "source": [
        "<a href=\"https://colab.research.google.com/github/AOV2099/edd_1310_2021/blob/master/1octubre_1310.ipynb\" target=\"_parent\"><img src=\"https://colab.research.google.com/assets/colab-badge.svg\" alt=\"Open In Colab\"/></a>"
      ]
    },
    {
      "cell_type": "markdown",
      "metadata": {
        "id": "F_c_hgSk8SaH"
      },
      "source": [
        "##INTRO PYTHON FES\n",
        "###VARIABLES \n",
        "tipo dinámico\n",
        "`escuela = \"FES ARAGON\"`"
      ]
    },
    {
      "cell_type": "code",
      "metadata": {
        "id": "5BpYXxXp8HGQ",
        "outputId": "dc0a6711-dade-4bdc-bb8d-c30357adb9fd",
        "colab": {
          "base_uri": "https://localhost:8080/",
          "height": 170
        }
      },
      "source": [
        "escuela = \"FES ARAGÓN\"\n",
        "print(escuela)\n",
        "print('--------------')\n",
        "edad = 13\n",
        "estatura = 1.67\n",
        "fumador = True\n",
        "frase = \"\"\"\n",
        "Esta es \n",
        "una frase \n",
        "de multiples\n",
        "lineas y tambíen \n",
        "es un tipo de dato.\n",
        "\"\"\"\n",
        "print(frase)\n",
        "nombre = 'Jose'\n",
        "nombreCompleto = \"jose Sosa Cardenas\""
      ],
      "execution_count": 23,
      "outputs": [
        {
          "output_type": "stream",
          "text": [
            "FES ARAGÓN\n",
            "--------------\n",
            "\n",
            "Esta es \n",
            "una frase \n",
            "de multiples\n",
            "lineas y tambíen \n",
            "es un tipo de dato.\n",
            "\n"
          ],
          "name": "stdout"
        }
      ]
    },
    {
      "cell_type": "markdown",
      "metadata": {
        "id": "JHpxY42Z914N"
      },
      "source": [
        "# Print\n",
        "con comas, \n",
        "con signo + \n",
        "con format()\n",
        "con el operador f"
      ]
    },
    {
      "cell_type": "code",
      "metadata": {
        "id": "j12gsuFX-AHV",
        "outputId": "cf042790-b7bc-4274-ba6d-9a30ff0e0704",
        "colab": {
          "base_uri": "https://localhost:8080/",
          "height": 34
        }
      },
      "source": [
        "print (nombre, edad)"
      ],
      "execution_count": 9,
      "outputs": [
        {
          "output_type": "stream",
          "text": [
            "Jose 13\n"
          ],
          "name": "stdout"
        }
      ]
    },
    {
      "cell_type": "code",
      "metadata": {
        "id": "E-2Pxr_G_FSP",
        "outputId": "d265a5d3-94fe-416f-a8e2-99bc9fed522e",
        "colab": {
          "base_uri": "https://localhost:8080/",
          "height": 34
        }
      },
      "source": [
        "#concatena\n",
        "print(nombre + str(edad))\n",
        "print(nombre + nombreCompleto"
      ],
      "execution_count": 10,
      "outputs": [
        {
          "output_type": "stream",
          "text": [
            "Jose13\n"
          ],
          "name": "stdout"
        }
      ]
    },
    {
      "cell_type": "markdown",
      "metadata": {
        "id": "q0H4sAo_8Q4P"
      },
      "source": [
        ""
      ]
    },
    {
      "cell_type": "code",
      "metadata": {
        "id": "TX4nfZhRAVdZ",
        "outputId": "4d6e6bfb-fd86-4883-8d11-9ef5ffa444ad",
        "colab": {
          "base_uri": "https://localhost:8080/",
          "height": 68
        }
      },
      "source": [
        "#con formato -> su nombre es jos e y su edad es de 13 años.\n",
        "print(\"Su nombre es \" , nombre , \" y su edad es de \" , edad , \" años.\")\n",
        "print(\"Su nombre es {1} y su edad es de {0} años.\".format(nombre, edad) )\n",
        "print(\"Su nombre es {} y su edad es de {} años.\".format(nombre, edad) )"
      ],
      "execution_count": 15,
      "outputs": [
        {
          "output_type": "stream",
          "text": [
            "Su nombre es  Jose  y su edad es de  13  años.\n",
            "Su nombre es 13 y su edad es de Jose años.\n",
            "Su nombre es Jose y su edad es de 13 años.\n"
          ],
          "name": "stdout"
        }
      ]
    },
    {
      "cell_type": "code",
      "metadata": {
        "id": "fXPd7j2wBt7s",
        "outputId": "20382cfc-eb3c-4d8e-df29-944ed9c10513",
        "colab": {
          "base_uri": "https://localhost:8080/",
          "height": 34
        }
      },
      "source": [
        "#con formato con el operador f\"\"\n",
        "\n",
        "print(f\"Su nombre es  {nombre}  y su edad es de  {edad}  años.\")"
      ],
      "execution_count": 16,
      "outputs": [
        {
          "output_type": "stream",
          "text": [
            "Su nombre es  Jose  y su edad es de  13  años.\n"
          ],
          "name": "stdout"
        }
      ]
    },
    {
      "cell_type": "markdown",
      "metadata": {
        "id": "bRzwJwRoCgwR"
      },
      "source": [
        "# Caracter de escape \n",
        "\\n salto de linea\n",
        "\n",
        "\\t tabulador\n",
        "\n",
        "\\a sonido beep\n",
        "\n",
        "\\\\\" imprimir comilla doble\n",
        "\n",
        "\\\\' imprimir comilla simple\n"
      ]
    },
    {
      "cell_type": "code",
      "metadata": {
        "id": "8LRNU_0MDTyy",
        "outputId": "a6e71375-8bf1-4b26-85e4-5a78cc1ccfb8",
        "colab": {
          "base_uri": "https://localhost:8080/",
          "height": 51
        }
      },
      "source": [
        "\"\"\"ESTO ES \n",
        "UN COMENTARIO\n",
        "DE MUKTIPLE LINEA\n",
        "\"\"\"\n",
        "print(f\"\\tMi nombre es \\n\\t\\t {nombre}\")"
      ],
      "execution_count": 20,
      "outputs": [
        {
          "output_type": "stream",
          "text": [
            "\tMi nombre es \n",
            "\t\t Jose\n"
          ],
          "name": "stdout"
        }
      ]
    },
    {
      "cell_type": "markdown",
      "metadata": {
        "id": "_BOvnTPyDpe_"
      },
      "source": [
        "#Ayuda de tipos de datos en python\n",
        "dir()\n",
        "\n",
        "help()"
      ]
    },
    {
      "cell_type": "code",
      "metadata": {
        "id": "CKgukveOEMYN"
      },
      "source": [
        "#str, int, bool, float, bool ... list, dict, set\n",
        "dir(str)\n",
        "help(str)\n",
        "#no combinar con código general"
      ],
      "execution_count": null,
      "outputs": []
    },
    {
      "cell_type": "code",
      "metadata": {
        "id": "YktzV9pyFgKu",
        "outputId": "32758abc-3ade-4ac2-fa0c-ba3b4fbc5d10",
        "colab": {
          "base_uri": "https://localhost:8080/",
          "height": 51
        }
      },
      "source": [
        "print(nombreCompleto.capitalize() )\n",
        "print(nombreCompleto.upper(), end=\"-----\" )\n",
        "print(nombreCompleto.title() )"
      ],
      "execution_count": 27,
      "outputs": [
        {
          "output_type": "stream",
          "text": [
            "Jose sosa cardenas\n",
            "JOSE SOSA CARDENAS-----Jose Sosa Cardenas\n"
          ],
          "name": "stdout"
        }
      ]
    },
    {
      "cell_type": "code",
      "metadata": {
        "id": "1Pgmr4eeGHfv",
        "outputId": "79099efe-b5aa-4dd1-a072-8e2d3332d1ee",
        "colab": {
          "base_uri": "https://localhost:8080/",
          "height": 221
        }
      },
      "source": [
        "help(print)"
      ],
      "execution_count": 25,
      "outputs": [
        {
          "output_type": "stream",
          "text": [
            "Help on built-in function print in module builtins:\n",
            "\n",
            "print(...)\n",
            "    print(value, ..., sep=' ', end='\\n', file=sys.stdout, flush=False)\n",
            "    \n",
            "    Prints the values to a stream, or to sys.stdout by default.\n",
            "    Optional keyword arguments:\n",
            "    file:  a file-like object (stream); defaults to the current sys.stdout.\n",
            "    sep:   string inserted between values, default a space.\n",
            "    end:   string appended after the last value, default a newline.\n",
            "    flush: whether to forcibly flush the stream.\n",
            "\n"
          ],
          "name": "stdout"
        }
      ]
    },
    {
      "cell_type": "markdown",
      "metadata": {
        "id": "ylkI8CDiGt7b"
      },
      "source": [
        "#Clase string\n",
        "Se maneja como un arreglo o lista(python)\n",
        "`telefono = \"Huawei mate 30 pro\"`"
      ]
    },
    {
      "cell_type": "code",
      "metadata": {
        "id": "LT_M50BlG5LT",
        "outputId": "ac013561-5194-4233-ba31-f54211760fd8",
        "colab": {
          "base_uri": "https://localhost:8080/",
          "height": 34
        }
      },
      "source": [
        "telefono = \"Huawei mate 30 pro\"\n",
        "print(telefono[5] )"
      ],
      "execution_count": 29,
      "outputs": [
        {
          "output_type": "stream",
          "text": [
            "i\n"
          ],
          "name": "stdout"
        }
      ]
    },
    {
      "cell_type": "markdown",
      "metadata": {
        "id": "nzJOK5JVIR9o"
      },
      "source": [
        "#Slicing\n",
        "[ini: stop: incremento]\n",
        "nota: el estop no se incluye. Termina en el valor anterior al stop"
      ]
    },
    {
      "cell_type": "code",
      "metadata": {
        "id": "ZJB5M0gPIbt1",
        "outputId": "f3fc26f7-4f25-47f3-8a1b-f9b293fe27a6",
        "colab": {
          "base_uri": "https://localhost:8080/",
          "height": 102
        }
      },
      "source": [
        "print(telefono[7: 11: 1])\n",
        "#el inicio y el incremento son opcionales\n",
        "print(telefono[ : 11 : ] )\n",
        "#El valor por defecto de stop es len(str)\n",
        "print(telefono[::])\n",
        "#Incremetento negativo\n",
        "print(telefono[::-1])\n",
        "#\n",
        "ini = -3\n",
        "inc = 1\n",
        "print(telefono[ini::inc])"
      ],
      "execution_count": 36,
      "outputs": [
        {
          "output_type": "stream",
          "text": [
            "mate\n",
            "Huawei mate\n",
            "Huawei mate 30 pro\n",
            "orp 03 etam iewauH\n",
            "pro\n"
          ],
          "name": "stdout"
        }
      ]
    },
    {
      "cell_type": "markdown",
      "metadata": {
        "id": "Cb6FHqPHNSXY"
      },
      "source": [
        "#Metodos string (str)\n",
        "Existen métodos muy útiles en esta clase."
      ]
    },
    {
      "cell_type": "code",
      "metadata": {
        "id": "shuI_CKeNcBe",
        "outputId": "cc6080c2-4e38-41db-e591-9d8dbca3f098",
        "colab": {
          "base_uri": "https://localhost:8080/",
          "height": 238
        }
      },
      "source": [
        "facultad = \"    Facultad de estudios superiores Aragón     \\n\"\n",
        "print(facultad)\n",
        "print(facultad.count(\" \") ) #Cuenta el numero de elementos en la cadena\n",
        "print(facultad.find(\"s\") ) #Encuentra el índice de la primera coincidencia\n",
        "print(facultad.strip() ) #Remueve los espacios en blanco, pero únicamente al principio y al final; además de los saltos de linea\n",
        "print(f\"El tamaño de la cadena es {len(facultad)} caracteres\" )\n",
        "print(facultad.strip().split(\" \"))\n",
        "\n",
        "print(\"-----------------\")\n",
        "#copiar cadena\n",
        "otra_cadena = facultad\n",
        "print(otra_cadena)\n",
        "otra_cadena = \"FES ARAGON\"\n",
        "print(otra_cadena)\n",
        "\n",
        "#copiar listas\n",
        "colores = ['rojo', 'verde']\n",
        "otra = colores.copy()\n",
        "\n",
        "otra.append('rosa')\n",
        "print(colores)\n",
        "print(otra)"
      ],
      "execution_count": 52,
      "outputs": [
        {
          "output_type": "stream",
          "text": [
            "    Facultad de estudios superiores Aragón     \n",
            "\n",
            "13\n",
            "17\n",
            "Facultad de estudios superiores Aragón\n",
            "El tamaño de la cadena es 48 caracteres\n",
            "['Facultad', 'de', 'estudios', 'superiores', 'Aragón']\n",
            "-----------------\n",
            "    Facultad de estudios superiores Aragón     \n",
            "\n",
            "FES ARAGON\n",
            "['rojo', 'verde']\n",
            "['rojo', 'verde', 'rosa']\n"
          ],
          "name": "stdout"
        }
      ]
    },
    {
      "cell_type": "markdown",
      "metadata": {
        "id": "uaDG8GBuNbc9"
      },
      "source": [
        ""
      ]
    }
  ]
}