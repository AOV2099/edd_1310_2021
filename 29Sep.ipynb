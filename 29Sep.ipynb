{
  "nbformat": 4,
  "nbformat_minor": 0,
  "metadata": {
    "colab": {
      "name": "29Sep.ipynb",
      "provenance": [],
      "collapsed_sections": [],
      "toc_visible": true,
      "authorship_tag": "ABX9TyNsQ9NlG417aHzr62wvgmf8",
      "include_colab_link": true
    },
    "kernelspec": {
      "name": "python3",
      "display_name": "Python 3"
    }
  },
  "cells": [
    {
      "cell_type": "markdown",
      "metadata": {
        "id": "view-in-github",
        "colab_type": "text"
      },
      "source": [
        "<a href=\"https://colab.research.google.com/github/AOV2099/edd_1310_2021/blob/master/29Sep.ipynb\" target=\"_parent\"><img src=\"https://colab.research.google.com/assets/colab-badge.svg\" alt=\"Open In Colab\"/></a>"
      ]
    },
    {
      "cell_type": "code",
      "metadata": {
        "id": "FRlK2_Ji-huv"
      },
      "source": [
        "edad=10"
      ],
      "execution_count": 1,
      "outputs": []
    },
    {
      "cell_type": "code",
      "metadata": {
        "id": "DJwcbqXC-q8G",
        "outputId": "18cc47b6-822b-4e6e-e4ce-92457c40f786",
        "colab": {
          "base_uri": "https://localhost:8080/",
          "height": 51
        }
      },
      "source": [
        "print(edad)\n",
        "colores= ['rojo','azul','verde','morado','violeta']\n",
        "print(colores)"
      ],
      "execution_count": 2,
      "outputs": [
        {
          "output_type": "stream",
          "text": [
            "10\n",
            "['rojo', 'azul', 'verde', 'morado', 'violeta']\n"
          ],
          "name": "stdout"
        }
      ]
    },
    {
      "cell_type": "code",
      "metadata": {
        "id": "a5VeY-_Z-s1z",
        "outputId": "bb8ab4db-75b8-49a5-844e-ac1c55c888ed",
        "colab": {
          "base_uri": "https://localhost:8080/",
          "height": 51
        }
      },
      "source": [
        "#colores[3]\n",
        "print('----')\n",
        "print(colores[3])"
      ],
      "execution_count": 3,
      "outputs": [
        {
          "output_type": "stream",
          "text": [
            "----\n",
            "morado\n"
          ],
          "name": "stdout"
        }
      ]
    },
    {
      "cell_type": "code",
      "metadata": {
        "id": "HL8KMpMz-vCw",
        "outputId": "33410927-53ca-4cdd-9928-73ec1b60c2ce",
        "colab": {
          "base_uri": "https://localhost:8080/",
          "height": 68
        }
      },
      "source": [
        "#Solo mostrar\"ra\" de morado\n",
        "print(colores[3][2:4])\n",
        "nombre=\"Alberto\"\n",
        "print(nombre[0])\n",
        "print(nombre[0:3:1])"
      ],
      "execution_count": 4,
      "outputs": [
        {
          "output_type": "stream",
          "text": [
            "ra\n",
            "A\n",
            "Alb\n"
          ],
          "name": "stdout"
        }
      ]
    },
    {
      "cell_type": "markdown",
      "metadata": {
        "id": "SFX9rKwSA_2U"
      },
      "source": [
        "# For en Python 3\n",
        "2 Variables \n",
        "1. j in range(ini, tope, incremento)\n",
        "2. in[iterador]"
      ]
    },
    {
      "cell_type": "code",
      "metadata": {
        "id": "BUAOZQv8_HJA",
        "outputId": "26f26bac-7573-490c-c106-615e201d516b",
        "colab": {
          "base_uri": "https://localhost:8080/",
          "height": 102
        }
      },
      "source": [
        "for j in range(0,5,1):\n",
        "  print(colores[j])"
      ],
      "execution_count": 8,
      "outputs": [
        {
          "output_type": "stream",
          "text": [
            "rojo\n",
            "azul\n",
            "verde\n",
            "morado\n",
            "violeta\n"
          ],
          "name": "stdout"
        }
      ]
    },
    {
      "cell_type": "code",
      "metadata": {
        "id": "HC2kEJK5_Nah",
        "outputId": "dd074748-962e-4cec-be80-b8268330e7cc",
        "colab": {
          "base_uri": "https://localhost:8080/",
          "height": 102
        }
      },
      "source": [
        "for color in colores:\n",
        "  print(color)"
      ],
      "execution_count": 10,
      "outputs": [
        {
          "output_type": "stream",
          "text": [
            "rojo\n",
            "azul\n",
            "verde\n",
            "morado\n",
            "violeta\n"
          ],
          "name": "stdout"
        }
      ]
    },
    {
      "cell_type": "code",
      "metadata": {
        "id": "jS6f02FK_Td4",
        "outputId": "cea54976-94ed-4788-ef71-6bccefccc1a9",
        "colab": {
          "base_uri": "https://localhost:8080/",
          "height": 272
        }
      },
      "source": [
        "for j in range(0,len(nombre),1):\n",
        "  print(nombre[j])\n",
        "print('--------------------')\n",
        "for nom in nombre:\n",
        "  print(nom)"
      ],
      "execution_count": 11,
      "outputs": [
        {
          "output_type": "stream",
          "text": [
            "A\n",
            "l\n",
            "b\n",
            "e\n",
            "r\n",
            "t\n",
            "o\n",
            "--------------------\n",
            "A\n",
            "l\n",
            "b\n",
            "e\n",
            "r\n",
            "t\n",
            "o\n"
          ],
          "name": "stdout"
        }
      ]
    },
    {
      "cell_type": "markdown",
      "metadata": {
        "id": "hQzO9ixMAMYf"
      },
      "source": [
        "#*Markdown* \n",
        "Es un lenguaje de marcado para documentar codigo. El objetivo es simplificar la escritura de lenguaje HTML.\n",
        "\n",
        "*NEGRITAS*\n",
        "---\n",
        "hola\n",
        "*\n",
        "Mas informacion:[Github Cheatsheet\n",
        "markdown](https://github.com/adam-p/markdown-here/wiki/Markdown-Cheatsheet)\n",
        "\n",
        "*\n",
        "![Perro](https://rcdn.rolloid.net/uploads/2016/08/las-21-fotografias-mas-adorables-de-perros-salchicha-que-hayas-visto-nunca_1472052340.jpg)"
      ]
    }
  ]
}