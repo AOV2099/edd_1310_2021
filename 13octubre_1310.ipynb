{
  "nbformat": 4,
  "nbformat_minor": 0,
  "metadata": {
    "colab": {
      "name": "13octubre_1310.ipynb",
      "provenance": [],
      "collapsed_sections": [],
      "authorship_tag": "ABX9TyPONQRBj8/CFwawB8fgeCnx",
      "include_colab_link": true
    },
    "kernelspec": {
      "name": "python3",
      "display_name": "Python 3"
    }
  },
  "cells": [
    {
      "cell_type": "markdown",
      "metadata": {
        "id": "view-in-github",
        "colab_type": "text"
      },
      "source": [
        "<a href=\"https://colab.research.google.com/github/AOV2099/edd_1310_2021/blob/master/13octubre_1310.ipynb\" target=\"_parent\"><img src=\"https://colab.research.google.com/assets/colab-badge.svg\" alt=\"Open In Colab\"/></a>"
      ]
    },
    {
      "cell_type": "code",
      "metadata": {
        "id": "peDBaYhxt60g",
        "outputId": "f447a80a-9c55-4b59-edb4-352cba63bca6",
        "colab": {
          "base_uri": "https://localhost:8080/",
          "height": 105
        }
      },
      "source": [
        "alumno = { \n",
        "          \"num_cta\" : 303030303 ,\n",
        "          \"carrera\" : \"ICO\",\n",
        "          \"promedio\" : 9.8,\n",
        "          \"materias\" :[\"EDD\",\"CyP\",\"Calidad\",\"Emprendimiento\"],\n",
        "          \"direccion\" : { \n",
        "                            \"calle\":\"rancho seco\",\n",
        "                            \"numero\" : 23 ,\n",
        "                            \"delegacion\" : \"Neza\",\n",
        "                            \"estado\" : {\n",
        "                                        \"id\" : 15 ,\n",
        "                                        \"nombre\" : \"Estado de México\" ,\n",
        "                                        \"nombre_corto\" : \"EdoMex\"\n",
        "                                        } ,\n",
        "                            \"CP\":57170\n",
        "\n",
        "                        } \n",
        "          }\n",
        "\n",
        "print(alumno)\n",
        "alumno['carrera'] = 'Ingeniería en computación'\n",
        "print(alumno)\n",
        "alumno['nombre_completo'] = {'primer':'Juan',\n",
        "                             'segundo': 'Pedro',\n",
        "                             'materno': 'Perez',\n",
        "                             'paterno': 'Gomez'\n",
        "                             }\n",
        "alumno['semestre'] = 3         \n",
        "\n",
        "print(alumno)\n",
        "\n",
        "print(f\"{alumno['nombre_completo']['primer']} {alumno['nombre_completo']['segundo']} {alumno['nombre_completo']['paterno']} {alumno['nombre_completo']['materno']}\")"
      ],
      "execution_count": null,
      "outputs": [
        {
          "output_type": "stream",
          "text": [
            "{'num_cta': 303030303, 'carrera': 'ICO', 'promedio': 9.8, 'materias': ['EDD', 'CyP', 'Calidad', 'Emprendimiento'], 'direccion': {'calle': 'rancho seco', 'numero': 23, 'delegacion': 'Neza', 'estado': {'id': 15, 'nombre': 'Estado de México', 'nombre_corto': 'EdoMex'}, 'CP': 57170}}\n",
            "{'num_cta': 303030303, 'carrera': 'Ingeniería en computación', 'promedio': 9.8, 'materias': ['EDD', 'CyP', 'Calidad', 'Emprendimiento'], 'direccion': {'calle': 'rancho seco', 'numero': 23, 'delegacion': 'Neza', 'estado': {'id': 15, 'nombre': 'Estado de México', 'nombre_corto': 'EdoMex'}, 'CP': 57170}}\n",
            "{'num_cta': 303030303, 'carrera': 'Ingeniería en computación', 'promedio': 9.8, 'materias': ['EDD', 'CyP', 'Calidad', 'Emprendimiento'], 'direccion': {'calle': 'rancho seco', 'numero': 23, 'delegacion': 'Neza', 'estado': {'id': 15, 'nombre': 'Estado de México', 'nombre_corto': 'EdoMex'}, 'CP': 57170}, 'nombre_completo': {'primer': 'Juan', 'segundo': 'Pedro', 'materno': 'Perez', 'paterno': 'Gomez'}, 'semestre': 3}\n",
            "Juan Pedro Gomez Perez\n"
          ],
          "name": "stdout"
        }
      ]
    },
    {
      "cell_type": "code",
      "metadata": {
        "id": "E43botPbybDL",
        "outputId": "f72cf66f-faa1-4d72-8be2-887a15471185",
        "colab": {
          "base_uri": "https://localhost:8080/",
          "height": 428
        }
      },
      "source": [
        "#key(), values(), item()\n",
        "llaves = alumno.keys()\n",
        "print(llaves)\n",
        "\n",
        "for k in llaves:\n",
        "  print( k.upper() )\n",
        "\n",
        "valores = alumno.values()\n",
        "for val in valores:\n",
        "  print(val)\n",
        "\n",
        "pares = alumno.items()\n",
        "print(pares)\n",
        "\n",
        "for i in pares:\n",
        "  print(f\"El campo {i[0]} tiene el valor {i[1]}\" )"
      ],
      "execution_count": null,
      "outputs": [
        {
          "output_type": "stream",
          "text": [
            "dict_keys(['num_cta', 'carrera', 'promedio', 'materias', 'direccion', 'nombre_completo', 'semestre'])\n",
            "NUM_CTA\n",
            "CARRERA\n",
            "PROMEDIO\n",
            "MATERIAS\n",
            "DIRECCION\n",
            "NOMBRE_COMPLETO\n",
            "SEMESTRE\n",
            "303030303\n",
            "Ingeniería en computación\n",
            "9.8\n",
            "['EDD', 'CyP', 'Calidad', 'Emprendimiento']\n",
            "{'calle': 'rancho seco', 'numero': 23, 'delegacion': 'Neza', 'estado': {'id': 15, 'nombre': 'Estado de México', 'nombre_corto': 'EdoMex'}, 'CP': 57170}\n",
            "{'primer': 'Juan', 'segundo': 'Pedro', 'materno': 'Perez', 'paterno': 'Gomez'}\n",
            "3\n",
            "dict_items([('num_cta', 303030303), ('carrera', 'Ingeniería en computación'), ('promedio', 9.8), ('materias', ['EDD', 'CyP', 'Calidad', 'Emprendimiento']), ('direccion', {'calle': 'rancho seco', 'numero': 23, 'delegacion': 'Neza', 'estado': {'id': 15, 'nombre': 'Estado de México', 'nombre_corto': 'EdoMex'}, 'CP': 57170}), ('nombre_completo', {'primer': 'Juan', 'segundo': 'Pedro', 'materno': 'Perez', 'paterno': 'Gomez'}), ('semestre', 3)])\n",
            "El campo num_cta tiene el valor 303030303\n",
            "El campo carrera tiene el valor Ingeniería en computación\n",
            "El campo promedio tiene el valor 9.8\n",
            "El campo materias tiene el valor ['EDD', 'CyP', 'Calidad', 'Emprendimiento']\n",
            "El campo direccion tiene el valor {'calle': 'rancho seco', 'numero': 23, 'delegacion': 'Neza', 'estado': {'id': 15, 'nombre': 'Estado de México', 'nombre_corto': 'EdoMex'}, 'CP': 57170}\n",
            "El campo nombre_completo tiene el valor {'primer': 'Juan', 'segundo': 'Pedro', 'materno': 'Perez', 'paterno': 'Gomez'}\n",
            "El campo semestre tiene el valor 3\n"
          ],
          "name": "stdout"
        }
      ]
    },
    {
      "cell_type": "code",
      "metadata": {
        "id": "HSAEEgBb0_x8",
        "outputId": "a14f51c3-abf2-4de4-ecd1-d33827275016",
        "colab": {
          "base_uri": "https://localhost:8080/",
          "height": 34
        }
      },
      "source": [
        "#Concatenar diccionarios\n",
        "\n",
        "computadora = {\"procesador\" : \"Intel i7\", \"ram\": \"kingston 128gb\"}\n",
        "otros = {\"monitoe\": \"LG 49\\\"\", \"hdd\": \"Toshiba 1TB\"}\n",
        "computadora.update(otros)\n",
        "print(computadora)"
      ],
      "execution_count": null,
      "outputs": [
        {
          "output_type": "stream",
          "text": [
            "{'procesador': 'Intel i7', 'ram': 'kingston 128gb', 'monitoe': 'LG 49\"', 'hdd': 'Toshiba 1TB'}\n"
          ],
          "name": "stdout"
        }
      ]
    },
    {
      "cell_type": "markdown",
      "metadata": {
        "id": "qEm6y5852rUO"
      },
      "source": [
        "#Funciones\n",
        "- Son unidades de código reutilizable\n",
        "- Es un mecanismo de organización del código\n",
        "- Toma de 0 a n parametros de entrada\n",
        "- Tiene una sola salida (return) de cualquier tipo de dato\n",
        "- Solo puedes hacer 2 cosas:\n",
        " - Definirla\n",
        " - Llamarla\n",
        "- Se definen con la palabara reservada 'def'\n",
        "\n",
        "\n",
        "#Ya responda mi correo, profe, me ignora a mí y a mi compa bien feo :c"
      ]
    },
    {
      "cell_type": "code",
      "metadata": {
        "id": "D2kvBkOk7Vk9",
        "outputId": "3a022830-3b47-4540-941a-3f8464d26b6b",
        "colab": {
          "base_uri": "https://localhost:8080/",
          "height": 204
        }
      },
      "source": [
        "\n",
        "def sumar( x , y ):\n",
        "  resultado = x + y\n",
        "  return resultado \n",
        "def saludar(nombre):\n",
        "  print(f\"Hola {nombre}, Como estas?\")\n",
        "  \n",
        "#  return None\n",
        "def sal(nombre):\n",
        "  saludo=[\"Hola\",\",¿Cómo estás?\"]\n",
        "  saludo.insert(1,nombre)\n",
        "  return saludo\n",
        "\n",
        "#Procesar None\n",
        "def multiplicar(valor, veces):\n",
        "  if valor!=None:\n",
        "    c=valor *veces\n",
        "  else:\n",
        "    c=\"Operacion no Valida\"\n",
        "  return \n",
        "def operacion(a,b,c):\n",
        "  resultado= a + (b/c)\n",
        "  return resultado\n",
        "\n",
        "\n",
        "\n",
        "print(sumar(10,5))\n",
        "print(sumar(2,5))\n",
        "c=sumar(3,10)\n",
        "print(c)\n",
        "saludar(\"Jesus\")\n",
        "print(saludar(\"Jose\"))\n",
        "print(multiplicar(5,6))\n",
        "print(sal(\"MOISÉS\"))\n",
        "print(multiplicar(None,6))\n",
        "print(operacion(2,9,3))\n",
        "\n",
        "print(operacion(a=2,c=3,b=9))"
      ],
      "execution_count": null,
      "outputs": [
        {
          "output_type": "stream",
          "text": [
            "15\n",
            "7\n",
            "13\n",
            "Hola Jesus, Como estas?\n",
            "Hola Jose, Como estas?\n",
            "None\n",
            "None\n",
            "['Hola', 'MOISÉS', ',¿Cómo estás?']\n",
            "None\n",
            "5.0\n",
            "5.0\n"
          ],
          "name": "stdout"
        }
      ]
    },
    {
      "cell_type": "code",
      "metadata": {
        "id": "0pw0Rasx-mDt",
        "outputId": "1b7f2eb4-ff69-415b-e10d-5bf427fbe791",
        "colab": {
          "base_uri": "https://localhost:8080/",
          "height": 255
        }
      },
      "source": [
        "#valores por defecto\n",
        "def comanda(primer, fuerte, postre=\"galleta de animalito\"):\n",
        "  print(f\"De entrada pidió: {primer}\")\n",
        "  print(f\"De plato fuerte pidió: {fuerte}\")\n",
        "  print(f\"De postre pidió: {postre}\")\n",
        "\n",
        "#algumentos posicionales con tuplas *\n",
        "def comanda2 ( *opciones ):\n",
        "  print(opciones)\n",
        "  print(f\"De entrada pidió: {opciones[0]}\")\n",
        "  print(f\"De plato fuerte pidió: {opciones[1]}\")\n",
        "  print(f\"De postre pidió: {opciones[2]}\")\n",
        "\n",
        "  print(f\"INDICACIONES EXTRA:\")\n",
        "  for ind in opciones[3::]:\n",
        "    print(f\"\\t{ind}\")\n",
        "\n",
        "\n",
        "\n",
        "comanda(\"sopa de pasta\", \"tacos\" ,\"flan de la abuela\")\n",
        "comanda(\"sopa de pasta\", \"tacos\" )\n",
        "\n",
        "comanda2(\"sopa de pasta\", \"tacos\" ,\"flan de la abuela\", \"bien dorados\", \"con muchos limones\", \"Abua de horchata\")\n"
      ],
      "execution_count": 55,
      "outputs": [
        {
          "output_type": "stream",
          "text": [
            "De entrada pidió: sopa de pasta\n",
            "De plato fuerte pidió: tacos\n",
            "De postre pidió: flan de la abuela\n",
            "De entrada pidió: sopa de pasta\n",
            "De plato fuerte pidió: tacos\n",
            "De postre pidió: galleta de animalito\n",
            "('sopa de pasta', 'tacos', 'flan de la abuela', 'bien dorados', 'con muchos limones', 'Abua de horchata')\n",
            "De entrada pidió: sopa de pasta\n",
            "De plato fuerte pidió: tacos\n",
            "De postre pidió: flan de la abuela\n",
            "INDICACIONES EXTRA:\n",
            "\tbien dorados\n",
            "\tcon muchos limones\n",
            "\tAbua de horchata\n"
          ],
          "name": "stdout"
        }
      ]
    },
    {
      "cell_type": "code",
      "metadata": {
        "id": "XDFRRj1EB6no",
        "outputId": "2d612f74-9f64-440c-809a-7cd989bb8275",
        "colab": {
          "base_uri": "https://localhost:8080/",
          "height": 136
        }
      },
      "source": [
        "#argumentos posicionales con diccionario **\n",
        "\n",
        "def comanda3 ( **opciones ):\n",
        "  print(opciones)\n",
        "  for opc in opciones.items():\n",
        "    print(f\"{opc[0]} -> {opc[1]}\")\n",
        "\n",
        "comanda3(primer=\"sopa de pasta\", fuerte=\"tacos\" , postre=\"flan de la abuela\", \n",
        "          extra1=\"bien dorados\", extra2=\"con muchos limones\", extra3=\"Abua de horchata\")"
      ],
      "execution_count": 74,
      "outputs": [
        {
          "output_type": "stream",
          "text": [
            "{'primer': 'sopa de pasta', 'fuerte': 'tacos', 'postre': 'flan de la abuela', 'extra1': 'bien dorados', 'extra2': 'con muchos limones', 'extra3': 'Abua de horchata'}\n",
            "primer -> sopa de pasta\n",
            "fuerte -> tacos\n",
            "postre -> flan de la abuela\n",
            "extra1 -> bien dorados\n",
            "extra2 -> con muchos limones\n",
            "extra3 -> Abua de horchata\n"
          ],
          "name": "stdout"
        }
      ]
    }
  ]
}