{
  "nbformat": 4,
  "nbformat_minor": 0,
  "metadata": {
    "colab": {
      "name": "12noviembre2020_1310.ipynb",
      "provenance": [],
      "authorship_tag": "ABX9TyNSYKbxykQwNccutbax3DXs",
      "include_colab_link": true
    },
    "kernelspec": {
      "name": "python3",
      "display_name": "Python 3"
    }
  },
  "cells": [
    {
      "cell_type": "markdown",
      "metadata": {
        "id": "view-in-github",
        "colab_type": "text"
      },
      "source": [
        "<a href=\"https://colab.research.google.com/github/AOV2099/edd_1310_2021/blob/master/12noviembre2020_1310.ipynb\" target=\"_parent\"><img src=\"https://colab.research.google.com/assets/colab-badge.svg\" alt=\"Open In Colab\"/></a>"
      ]
    },
    {
      "cell_type": "code",
      "metadata": {
        "id": "HYCao_klcOff",
        "outputId": "97992f1a-6be5-4789-d816-1ce64045cc43",
        "colab": {
          "base_uri": "https://localhost:8080/"
        }
      },
      "source": [
        "class Nodo:\n",
        "\n",
        "    def __init__(self,dato):\n",
        "        self.dato = dato\n",
        "        self.siguiente = None\n",
        "\n",
        "#ejemplo 1, un solo elemenento\n",
        "a = Nodo(10)\n",
        "print( a.dato )\n",
        "print(a.siguiente ) \n",
        "\n",
        "#ejemplo 2\n",
        "a.siguiente = Nodo(20)\n",
        "\n",
        "#ejemplo 3\n",
        "a.siguiente.siguiente = Nodo(30) \n",
        "\n",
        "#ejemplo 4\n",
        "a.siguiente.siguiente.siguiente = Nodo(40) \n",
        "\n",
        "#ejemplo 5\n",
        "a.siguiente.siguiente.siguiente.siguiente = Nodo( 50 )\n",
        "\n",
        "#eliminadndo node 30 ejemplo 6\n",
        "a.siguiente.siguiente = a.siguiente.siguiente.siguiente\n",
        "\n",
        "#ejemplo 7 cambiar un dato\n",
        "a.siguiente.siguiente.dato = 45\n",
        "\n",
        "#Ejemplo 8 Insertar un dato entre dos.\n",
        "tmp = a.siguiente.siguiente.siguiente #Respaldo mi nodo 50, para que no se pierda\n",
        "a.siguiente.siguiente.siguiente = Nodo(48) #creo mi nuevo nodo\n",
        "a.siguiente.siguiente.siguiente.siguiente = tmp #vuelvo agregar mi nodo 50\n",
        "\n",
        "#corrido transversal\n",
        "curr_node = a\n",
        "print(curr_node.dato, \"--> \", end=\"\")\n",
        "\n",
        "while curr_node.siguiente != None:\n",
        "  curr_node = curr_node.siguiente\n",
        "  print(curr_node.dato, \"--> \", end=\"\")\n",
        "print(\"\")"
      ],
      "execution_count": 24,
      "outputs": [
        {
          "output_type": "stream",
          "text": [
            "10\n",
            "None\n",
            "10 --> 20 --> 45 --> 48 --> 50 --> \n"
          ],
          "name": "stdout"
        }
      ]
    },
    {
      "cell_type": "code",
      "metadata": {
        "id": "NPLGEOzqvNaT",
        "outputId": "f1dfc7d2-ac2e-4e7d-a03e-2584d5ec9a83",
        "colab": {
          "base_uri": "https://localhost:8080/"
        }
      },
      "source": [
        "class Nodo:\n",
        "\n",
        "    def __init__(self,dato, sig = None):\n",
        "        self.dato = dato\n",
        "        self.siguiente = sig\n",
        "\n",
        "\n",
        "#ej 1\n",
        "a = Nodo(10)\n",
        "\n",
        "#ej 2 RECONSTRUCCION\n",
        "a = Nodo(10, Nodo(20) )\n",
        "\n",
        "a = Nodo(10, Nodo(20, Nodo(30) ) )\n",
        "\n",
        "a = Nodo(10, Nodo(20, Nodo(30, Nodo(30) ) ) )\n",
        "\n",
        "a = Nodo(10, Nodo(20, Nodo(30, Nodo(30, Nodo(40) ) ) ) )\n",
        "\n",
        "a = Nodo(10, Nodo(20, Nodo(30, Nodo(30, Nodo(40, Nodo(50) ) ) ) ) )\n",
        "\n",
        "#corrido transversal\n",
        "curr_node = a\n",
        "print(curr_node.dato, \"--> \", end=\"\")\n",
        "\n",
        "while curr_node.siguiente != None:\n",
        "  curr_node = curr_node.siguiente\n",
        "  print(curr_node.dato, \"--> \", end=\"\")\n",
        "print(\"\")"
      ],
      "execution_count": 27,
      "outputs": [
        {
          "output_type": "stream",
          "text": [
            "10 --> 20 --> 30 --> 30 --> 40 --> 50 --> \n"
          ],
          "name": "stdout"
        }
      ]
    }
  ]
}