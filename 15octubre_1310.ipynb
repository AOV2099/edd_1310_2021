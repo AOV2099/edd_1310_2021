{
  "nbformat": 4,
  "nbformat_minor": 0,
  "metadata": {
    "colab": {
      "name": "15octubre_1310.ipynb",
      "provenance": [],
      "collapsed_sections": [],
      "toc_visible": true,
      "authorship_tag": "ABX9TyOyX2Pm1+k13pXusXfe5KrG",
      "include_colab_link": true
    },
    "kernelspec": {
      "name": "python3",
      "display_name": "Python 3"
    }
  },
  "cells": [
    {
      "cell_type": "markdown",
      "metadata": {
        "id": "view-in-github",
        "colab_type": "text"
      },
      "source": [
        "<a href=\"https://colab.research.google.com/github/AOV2099/edd_1310_2021/blob/master/15octubre_1310.ipynb\" target=\"_parent\"><img src=\"https://colab.research.google.com/assets/colab-badge.svg\" alt=\"Open In Colab\"/></a>"
      ]
    },
    {
      "cell_type": "markdown",
      "metadata": {
        "id": "PvHV-7SSB2cb"
      },
      "source": [
        "#MODULOS\n",
        "Son recursos utilizables que pueden ser importadas a tu código.\n"
      ]
    },
    {
      "cell_type": "code",
      "metadata": {
        "id": "nm-ns51SCMB1",
        "outputId": "b97e1a20-eb52-4978-f112-5915d00581bb",
        "colab": {
          "base_uri": "https://localhost:8080/",
          "height": 52
        }
      },
      "source": [
        "\"\"\"import mi_modulo as modulo\n",
        "\n",
        "x = mi_modulo.sumar( 4, 7 )\n",
        "print(x)\n",
        "\n",
        "print(mi_modulo.multiplicar(3,5))\n",
        "print( modulo.dividir(10,2) ) \"\"\"\n",
        "\n"
      ],
      "execution_count": 7,
      "outputs": [
        {
          "output_type": "execute_result",
          "data": {
            "application/vnd.google.colaboratory.intrinsic+json": {
              "type": "string"
            },
            "text/plain": [
              "'import mi_modulo as modulo\\n\\nx = mi_modulo.sumar( 4, 7 )\\nprint(x)\\n\\nprint(mi_modulo.multiplicar(3,5))\\nprint( modulo.dividir(10,2) ) '"
            ]
          },
          "metadata": {
            "tags": []
          },
          "execution_count": 7
        }
      ]
    },
    {
      "cell_type": "code",
      "metadata": {
        "id": "iBUzvrRTKVpE",
        "outputId": "578764d8-02ba-444a-bdde-96a217e1800f",
        "colab": {
          "base_uri": "https://localhost:8080/",
          "height": 51
        }
      },
      "source": [
        "from mi_modulo import sumar as sum, dividir as div\n",
        "print( sum(4,7) )\n",
        "print(div(10, 2))"
      ],
      "execution_count": 11,
      "outputs": [
        {
          "output_type": "stream",
          "text": [
            "11\n",
            "5.0\n"
          ],
          "name": "stdout"
        }
      ]
    },
    {
      "cell_type": "code",
      "metadata": {
        "id": "Rf385aLHLRW1",
        "outputId": "285a00b2-1817-4501-dcc4-3cffce5f8679",
        "colab": {
          "base_uri": "https://localhost:8080/",
          "height": 34
        }
      },
      "source": [
        "import mi_modulo as modulo\n",
        "print( modulo.sumar(4, 10) )"
      ],
      "execution_count": 9,
      "outputs": [
        {
          "output_type": "stream",
          "text": [
            "14\n"
          ],
          "name": "stdout"
        }
      ]
    },
    {
      "cell_type": "code",
      "metadata": {
        "id": "KJP7q38BOCkV",
        "outputId": "4347b573-6660-455f-eb8a-d9496fb18bd3",
        "colab": {
          "base_uri": "https://localhost:8080/",
          "height": 275
        }
      },
      "source": [
        "pip install joke-generator"
      ],
      "execution_count": 13,
      "outputs": [
        {
          "output_type": "stream",
          "text": [
            "Collecting joke-generator\n",
            "  Downloading https://files.pythonhosted.org/packages/95/e5/de76c4aff315ad38ab69cd25ea942250a51008e910905c1f8ef80265b15b/joke_generator-1.0.1.tar.gz\n",
            "Requirement already satisfied: requests>=2.22.0 in /usr/local/lib/python3.6/dist-packages (from joke-generator) (2.23.0)\n",
            "Requirement already satisfied: idna<3,>=2.5 in /usr/local/lib/python3.6/dist-packages (from requests>=2.22.0->joke-generator) (2.10)\n",
            "Requirement already satisfied: urllib3!=1.25.0,!=1.25.1,<1.26,>=1.21.1 in /usr/local/lib/python3.6/dist-packages (from requests>=2.22.0->joke-generator) (1.24.3)\n",
            "Requirement already satisfied: certifi>=2017.4.17 in /usr/local/lib/python3.6/dist-packages (from requests>=2.22.0->joke-generator) (2020.6.20)\n",
            "Requirement already satisfied: chardet<4,>=3.0.2 in /usr/local/lib/python3.6/dist-packages (from requests>=2.22.0->joke-generator) (3.0.4)\n",
            "Building wheels for collected packages: joke-generator\n",
            "  Building wheel for joke-generator (setup.py) ... \u001b[?25l\u001b[?25hdone\n",
            "  Created wheel for joke-generator: filename=joke_generator-1.0.1-cp36-none-any.whl size=2075 sha256=b1f42c9a7ac8e9236d07a1bac8b022a4914241090fedaa08cbeff3bece82f733\n",
            "  Stored in directory: /root/.cache/pip/wheels/b1/e1/1c/42a5a669d05834c31aab52f6f87b1c7d50718f7669d51bd347\n",
            "Successfully built joke-generator\n",
            "Installing collected packages: joke-generator\n",
            "Successfully installed joke-generator-1.0.1\n"
          ],
          "name": "stdout"
        }
      ]
    },
    {
      "cell_type": "code",
      "metadata": {
        "id": "q_85NYmpPt6M",
        "outputId": "1587dc53-fd69-4f77-920e-438c4b3fbbe9",
        "colab": {
          "base_uri": "https://localhost:8080/",
          "height": 35
        }
      },
      "source": [
        "from joke_generator import generate\n",
        "generate()"
      ],
      "execution_count": 15,
      "outputs": [
        {
          "output_type": "execute_result",
          "data": {
            "application/vnd.google.colaboratory.intrinsic+json": {
              "type": "string"
            },
            "text/plain": [
              "'How do you organize a space party? You planet.'"
            ]
          },
          "metadata": {
            "tags": []
          },
          "execution_count": 15
        }
      ]
    },
    {
      "cell_type": "markdown",
      "metadata": {
        "id": "n2iuYy8ZSX6r"
      },
      "source": [
        "#Archivos\n",
        "- open (str, str)\n",
        " 1. Nombre o ruta del archivo\n",
        " 2. Dos caracteres\n",
        "   - Modo de apertura del archivo (r, w, a append si y solo si el archivo existe, x append si y solo si el archivo existe)\n",
        "   - Formato del archico (t o b)"
      ]
    },
    {
      "cell_type": "code",
      "metadata": {
        "id": "v336R4zGS4qT"
      },
      "source": [
        "archivo = open('saludo.txt','wt')\n",
        "archivo.write('Hellow there \\n General Kennoby')\n",
        "archivo.close()"
      ],
      "execution_count": 22,
      "outputs": []
    },
    {
      "cell_type": "code",
      "metadata": {
        "id": "RR9KD1_rUc1I"
      },
      "source": [
        "otro = open('./sample_data/anscombe.json','rt')\n",
        "datos = otro.read()\n",
        "#print(datos)\n",
        "otro.close()"
      ],
      "execution_count": 30,
      "outputs": []
    },
    {
      "cell_type": "code",
      "metadata": {
        "id": "YMmMF0uzWPUM",
        "outputId": "5a66f222-5953-47cb-952e-7fcc3c73d86d",
        "colab": {
          "base_uri": "https://localhost:8080/",
          "height": 136
        }
      },
      "source": [
        "arch = open('frutas.txt', 'rt')\n",
        "data = 'ppp'\n",
        "while(data != ''):\n",
        "  data = arch.readline()\n",
        "  print(data)\n",
        "\n",
        "arch.close()\n",
        "\n",
        "arch = open('frutas.txt', 'rt')\n",
        "\n",
        "list_frutas = arch.readlines()\n",
        "print(list_frutas)\n",
        "\n",
        "arch.close()\n"
      ],
      "execution_count": 38,
      "outputs": [
        {
          "output_type": "stream",
          "text": [
            "manzana, perom kiwi, aguacate\n",
            "\n",
            "limón, naranja\n",
            "\n",
            "sandía, papaya\n",
            "\n",
            "['manzana, perom kiwi, aguacate\\n', 'limón, naranja\\n', 'sandía, papaya']\n"
          ],
          "name": "stdout"
        }
      ]
    }
  ]
}