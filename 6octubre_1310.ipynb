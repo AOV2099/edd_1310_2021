{
  "nbformat": 4,
  "nbformat_minor": 0,
  "metadata": {
    "colab": {
      "name": "6octubre_1310.ipynb",
      "provenance": [],
      "authorship_tag": "ABX9TyPgOcpBcIZsb1FkuqWQocBp",
      "include_colab_link": true
    },
    "kernelspec": {
      "name": "python3",
      "display_name": "Python 3"
    }
  },
  "cells": [
    {
      "cell_type": "markdown",
      "metadata": {
        "id": "view-in-github",
        "colab_type": "text"
      },
      "source": [
        "<a href=\"https://colab.research.google.com/github/AOV2099/edd_1310_2021/blob/master/6octubre_1310.ipynb\" target=\"_parent\"><img src=\"https://colab.research.google.com/assets/colab-badge.svg\" alt=\"Open In Colab\"/></a>"
      ]
    },
    {
      "cell_type": "code",
      "metadata": {
        "id": "AdXF2tAUqFdJ",
        "outputId": "34b3484a-b245-4bcc-c513-98cc4709345d",
        "colab": {
          "base_uri": "https://localhost:8080/",
          "height": 323
        }
      },
      "source": [
        "#string continuación\n",
        "frase = \"si funciona, no lo arregles\"\n",
        "\n",
        "numeros_txt = \"    1, 2 , 3   , 41 ,  35 , 12 \"\n",
        "print(numeros_txt)\n",
        "\n",
        "numeros_txt = numeros_txt.lstrip().split(',')\n",
        "print(numeros_txt)\n",
        "\n",
        "for i in range(len(numeros_txt)):\n",
        "  numeros_txt[i] = int(numeros_txt [i].strip())\n",
        "\n",
        "numeros_txt.sort()\n",
        "print(numeros_txt)\n",
        "\n",
        "#función range\n",
        "\n",
        "#range(inicio, stop, incremento)\n",
        "rango = range(1, 10, 2)\n",
        "\n",
        "for i in rango:\n",
        "  print(i)\n",
        "\n",
        "rango = range(10)\n",
        "for i in rango:\n",
        "  print(i)"
      ],
      "execution_count": 24,
      "outputs": [
        {
          "output_type": "stream",
          "text": [
            "    1, 2 , 3   , 41 ,  35 , 12 \n",
            "['1', ' 2 ', ' 3   ', ' 41 ', '  35 ', ' 12 ']\n",
            "[1, 2, 3, 12, 35, 41]\n",
            "1\n",
            "3\n",
            "5\n",
            "7\n",
            "9\n",
            "0\n",
            "1\n",
            "2\n",
            "3\n",
            "4\n",
            "5\n",
            "6\n",
            "7\n",
            "8\n",
            "9\n"
          ],
          "name": "stdout"
        }
      ]
    },
    {
      "cell_type": "markdown",
      "metadata": {
        "id": "yoGcKdLyxNnY"
      },
      "source": [
        "#Listas\n",
        "- mutables\n",
        "- declaran con [ ]\n",
        "- selector [ int ]\n",
        "- pueden ser cualquier tipo y mezclado\n",
        "\n",
        "#Tuplas\n",
        "- No mutables\n",
        "- Declaran con ()\n",
        "- Selector [ int ]\n",
        "\n",
        "#Diccionarios\n",
        "- Conjunto de pares llava/valor\n",
        "- Mutables\n",
        "-Equivalente a los objetos json en llava script\n",
        "\n",
        "#Conjuntos\n",
        "- Representacion de la teoria de conjuntos"
      ]
    },
    {
      "cell_type": "code",
      "metadata": {
        "id": "-iw0bqTTySUb",
        "outputId": "5d161646-92ba-48a9-cefa-b63bb7961b4f",
        "colab": {
          "base_uri": "https://localhost:8080/",
          "height": 136
        }
      },
      "source": [
        "#listas (equivalentes a los arreglos)\n",
        "frutas = [\"manzana\", 'pera', 'fresa', 'kiwi', 'naranja']\n",
        "print(frutas)\n",
        "cosas = ['cuaderno', 2, 3.1416, True, ['rojo', 'azul', 'morado'] ]\n",
        "print(cosas)\n",
        "#frutas[2] = 'Fresa'\n",
        "frutas[2] = frutas[2].capitalize()\n",
        "print(frutas)\n",
        "#agregar a la lista\n",
        "frutas.append('Aguacate')\n",
        "print(frutas)\n",
        "frutas.insert(2,'Sandía')\n",
        "print(frutas)\n",
        "\n",
        "fecha = [\"06\", '10', '2020'] #06/10/2020\n",
        "print(fecha)\n",
        "fecha_str = \"/\".join(fecha)\n",
        "print(fecha_str)\n"
      ],
      "execution_count": 53,
      "outputs": [
        {
          "output_type": "stream",
          "text": [
            "['manzana', 'pera', 'fresa', 'kiwi', 'naranja']\n",
            "['cuaderno', 2, 3.1416, True, ['rojo', 'azul', 'morado']]\n",
            "['manzana', 'pera', 'Fresa', 'kiwi', 'naranja']\n",
            "['manzana', 'pera', 'Fresa', 'kiwi', 'naranja', 'Aguacate']\n",
            "['manzana', 'pera', 'Sandía', 'Fresa', 'kiwi', 'naranja', 'Aguacate']\n",
            "['06', '10', '2020']\n",
            "06/10/2020\n"
          ],
          "name": "stdout"
        }
      ]
    },
    {
      "cell_type": "code",
      "metadata": {
        "id": "POpTKVsD3SkD",
        "outputId": "def226a8-9a96-4116-dcf8-f080d787a298",
        "colab": {
          "base_uri": "https://localhost:8080/",
          "height": 187
        }
      },
      "source": [
        "#eliminar elementos (pop y remove)\n",
        "print(cosas)\n",
        "cosas.append(\"libro\")\n",
        "cosas.append(\"lapiz\")\n",
        "print(cosas)\n",
        "#pop\n",
        "algo = cosas.pop()\n",
        "print(cosas)\n",
        "\n",
        "algo = cosas.pop(2)\n",
        "print(cosas)\n",
        "print(algo)\n",
        "\n",
        "#remove busca valor ingresado y elimina la primera coincidencia\n",
        "cosas.remove(2)\n",
        "print(cosas)\n",
        "\n",
        "#vaciar lista\n",
        "cosas.clear()\n",
        "print(cosas)\n",
        "\n",
        "#ordenar, para usar sort se tiene que tener un solo tipo de datos.\n",
        "print(frutas)\n",
        "frutas.sort()\n",
        "print(frutas)\n"
      ],
      "execution_count": 52,
      "outputs": [
        {
          "output_type": "stream",
          "text": [
            "['cuaderno', 2, 3.1416, True, ['rojo', 'azul', 'morado']]\n",
            "['cuaderno', 2, 3.1416, True, ['rojo', 'azul', 'morado'], 'libro', 'lapiz']\n",
            "['cuaderno', 2, 3.1416, True, ['rojo', 'azul', 'morado'], 'libro']\n",
            "['cuaderno', 2, True, ['rojo', 'azul', 'morado'], 'libro']\n",
            "3.1416\n",
            "['cuaderno', True, ['rojo', 'azul', 'morado'], 'libro']\n",
            "[]\n",
            "['manzana', 'pera', 'Sandía', 'Fresa', 'kiwi', 'naranja', 'Aguacate']\n",
            "['Aguacate', 'Fresa', 'Sandía', 'kiwi', 'manzana', 'naranja', 'pera']\n",
            "[]\n"
          ],
          "name": "stdout"
        }
      ]
    },
    {
      "cell_type": "code",
      "metadata": {
        "id": "hXs5HC3A7IlM",
        "outputId": "23d3e08e-3836-49da-fda6-9b92cdc4c368",
        "colab": {
          "base_uri": "https://localhost:8080/",
          "height": 136
        }
      },
      "source": [
        "#slicing\n",
        "\n",
        "cosas = ['cuaderno', 2, 3.1416, True, False, ['rojo', 'azul', 'morado'] ]\n",
        "print(cosas[3:5:1])\n",
        "print(cosas)\n",
        "print(cosas[0][3:5:1])\n",
        "\n",
        "numeros = []\n",
        "for i in range(1,16):\n",
        "  numeros.append(i)\n",
        "print(numeros)\n",
        "print(numeros[7:12])\n",
        "\n",
        "#sustituir rebanadas -2, -2\n",
        "numeros[7:12] = [-2, -2]\n",
        "print(numeros)\n",
        "\n",
        "#preguntar si in valor existe en lista\n",
        "print(-2 in numeros)"
      ],
      "execution_count": 67,
      "outputs": [
        {
          "output_type": "stream",
          "text": [
            "[True, False]\n",
            "['cuaderno', 2, 3.1416, True, False, ['rojo', 'azul', 'morado']]\n",
            "de\n",
            "[1, 2, 3, 4, 5, 6, 7, 8, 9, 10, 11, 12, 13, 14, 15]\n",
            "[8, 9, 10, 11, 12]\n",
            "[1, 2, 3, 4, 5, 6, 7, -2, -2, 13, 14, 15]\n",
            "True\n"
          ],
          "name": "stdout"
        }
      ]
    },
    {
      "cell_type": "markdown",
      "metadata": {
        "id": "f5xCAhtU-mU_"
      },
      "source": [
        "#Listas multidimensionales\n",
        "##listas dentro de listas\n"
      ]
    },
    {
      "cell_type": "code",
      "metadata": {
        "id": "myI3NPlz-s0r",
        "outputId": "eed34708-3c9b-4cbd-c2c7-8ea739a57edb",
        "colab": {
          "base_uri": "https://localhost:8080/",
          "height": 136
        }
      },
      "source": [
        "computadoras = ['HP', 'McBook Pro 17', 'MateBook', 'Lenovo Legion']\n",
        "os = ['Windows 10', 'Linux', 'Android', 'IOS']\n",
        "\n",
        "computo = [computadoras, os]\n",
        "print(computo[0])\n",
        "print(computo[1])\n",
        "print(computo[0][2][0:4])\n",
        "print(computo[0][3][5::-1])\n",
        "\n",
        "print('Linux' in computo[1])\n",
        "\n",
        "dbms =[ ['MySQL', 'Open Source', False], ['MS SQLS SERVER', 'De paga', True] ] \n",
        "computo.append(dbms)\n",
        "print(computo)\n",
        "\n",
        "print(computo[2][1][1])"
      ],
      "execution_count": 92,
      "outputs": [
        {
          "output_type": "stream",
          "text": [
            "['HP', 'McBook Pro 17', 'MateBook', 'Lenovo Legion']\n",
            "['Windows 10', 'Linux', 'Android', 'IOS']\n",
            "Mate\n",
            "ovoneL\n",
            "True\n",
            "[['HP', 'McBook Pro 17', 'MateBook', 'Lenovo Legion'], ['Windows 10', 'Linux', 'Android', 'IOS'], [['MySQL', 'Open Source', False], ['MS SQLS SERVER', 'De paga', True]]]\n",
            "De paga\n"
          ],
          "name": "stdout"
        }
      ]
    }
  ]
}