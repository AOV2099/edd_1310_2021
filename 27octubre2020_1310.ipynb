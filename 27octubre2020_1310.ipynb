{
  "nbformat": 4,
  "nbformat_minor": 0,
  "metadata": {
    "colab": {
      "name": "27octubre2020_1310.ipynb",
      "provenance": [],
      "authorship_tag": "ABX9TyOy175M8h4Bsr44f+Lv5ON+",
      "include_colab_link": true
    },
    "kernelspec": {
      "name": "python3",
      "display_name": "Python 3"
    }
  },
  "cells": [
    {
      "cell_type": "markdown",
      "metadata": {
        "id": "view-in-github",
        "colab_type": "text"
      },
      "source": [
        "<a href=\"https://colab.research.google.com/github/AOV2099/edd_1310_2021/blob/master/27octubre2020_1310.ipynb\" target=\"_parent\"><img src=\"https://colab.research.google.com/assets/colab-badge.svg\" alt=\"Open In Colab\"/></a>"
      ]
    },
    {
      "cell_type": "code",
      "metadata": {
        "id": "FgLZJ7iyBYSV",
        "outputId": "a4c84119-2235-4021-cb10-ad716800dccd",
        "colab": {
          "base_uri": "https://localhost:8080/",
          "height": 68
        }
      },
      "source": [
        "class Computadora:\n",
        "    def __init__( self , m , p):\n",
        "        self.__marca = m\n",
        "        self.__procesador = p\n",
        "\n",
        "    def to_string( self ):\n",
        "        return \"Marca:\"+self.__marca+\" Procesador:\"+self.__procesador\n",
        "\n",
        "    def set_marca ( self, m ):\n",
        "      self.__marca = m\n",
        "    \n",
        "    def get_marca( self ):\n",
        "      return self.__marca\n",
        "\n",
        "    def set_procesador ( self, p ):\n",
        "      self.__marca = m\n",
        "    \n",
        "    def get_procesador( self ):\n",
        "      return self.__procesador\n",
        "\n",
        "mi_pc = Computadora(\"Toshiba\",\"Intel i7\")\n",
        "print(mi_pc.to_string())\n",
        "mi_pc.__marca=\"HP \"\n",
        "mi_pc.set_marca(\"HP CO.\")\n",
        "print(mi_pc.to_string())\n",
        "\n",
        "print( mi_pc.get_procesador() )"
      ],
      "execution_count": 10,
      "outputs": [
        {
          "output_type": "stream",
          "text": [
            "Marca:Toshiba Procesador:Intel i7\n",
            "Marca:HP CO. Procesador:Intel i7\n",
            "Intel i7\n"
          ],
          "name": "stdout"
        }
      ]
    },
    {
      "cell_type": "code",
      "metadata": {
        "id": "a1TnMRagEJhH"
      },
      "source": [
        "#Encapsulamineto en python 3\n",
        "## Tradicional topo Java\n",
        "setAtributo ( val )\n",
        "getAtributo ()\n",
        "\n",
        "## Estilo Python 3\n",
        "Utilizando decoradores\n",
        "- @Property\n",
        "- @Atributo.setter"
      ],
      "execution_count": null,
      "outputs": []
    },
    {
      "cell_type": "code",
      "metadata": {
        "id": "sqIgZ0piH2F0",
        "outputId": "7dbb16d0-387b-4747-81ab-eaf3707b3809",
        "colab": {
          "base_uri": "https://localhost:8080/",
          "height": 119
        }
      },
      "source": [
        "class Computadora:\n",
        "\n",
        "  def __init__(self, m, p):\n",
        "    self.marca = m      #Se manda a llamar el decorador @ property\n",
        "    self.procesador = p #idem\n",
        "  \n",
        "  @property #Se delcara como atributo provado y funciona como métogo get\n",
        "  def marca( self ):\n",
        "    return self.__marca\n",
        "  \n",
        "  @marca.setter\n",
        "  def marca( self, m ):\n",
        "    print(\"En el método set de marca\")\n",
        "    self.__marca = m\n",
        "\n",
        "  @property\n",
        "  def procesador( self ):\n",
        "    return self.__procesador\n",
        "  \n",
        "  @procesador.setter\n",
        "  def procesador( self, p ):\n",
        "    print(\"En el método set de procesador\")\n",
        "    self.__procesador = p\n",
        "  \n",
        "  def to_string( self ):\n",
        "    return f\"Marca: {self.marca}, Procesador: {self.procesador}\"\n",
        "\n",
        "mi_pc2 = Computadora( 'Msi GS63VR ', \"Intel Core i7\")\n",
        "print( mi_pc2.to_string() )\n",
        "mi_pc2.marca = \"Dell\"\n",
        "mi_pc2.procesador = \"Rizen 7\"\n",
        "print( mi_pc2.to_string() )\n"
      ],
      "execution_count": 14,
      "outputs": [
        {
          "output_type": "stream",
          "text": [
            "En el método set de marca\n",
            "En el método set de procesador\n",
            "Marca: Msi GS63VR , Procesador: Intel Core i7\n",
            "En el método set de marca\n",
            "En el método set de procesador\n",
            "Marca: Dell, Procesador: Rizen 7\n"
          ],
          "name": "stdout"
        }
      ]
    },
    {
      "cell_type": "code",
      "metadata": {
        "id": "mYnBTkuTQkb5",
        "outputId": "30013dc4-024a-4158-df3c-1d195b9af9c5",
        "colab": {
          "base_uri": "https://localhost:8080/",
          "height": 85
        }
      },
      "source": [
        "# Herencia, pasando la clase base a la declaración\n",
        "class ServidorEmpresarial( Computadora ):\n",
        "  def __init__( self ):\n",
        "    print(\"Hola Servidor\")\n",
        "\n",
        "server = ServidorEmpresarial()\n",
        "server.marca = \"Sun Micro Systems\"\n",
        "server.procesador = \"Intel i9\"\n",
        "print( server.to_string() )"
      ],
      "execution_count": 17,
      "outputs": [
        {
          "output_type": "stream",
          "text": [
            "Hola Servidor\n",
            "En el método set de marca\n",
            "En el método set de procesador\n",
            "Marca: Sun Micro Systems, Procesador: Intel i9\n"
          ],
          "name": "stdout"
        }
      ]
    }
  ]
}